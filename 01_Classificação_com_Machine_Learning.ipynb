{
  "nbformat": 4,
  "nbformat_minor": 0,
  "metadata": {
    "colab": {
      "provenance": [],
      "toc_visible": true
    },
    "kernelspec": {
      "name": "python3",
      "display_name": "Python 3"
    },
    "language_info": {
      "name": "python"
    }
  },
  "cells": [
    {
      "cell_type": "markdown",
      "source": [
        "BASE DE DADOS"
      ],
      "metadata": {
        "id": "WiCC-lAOTS09"
      }
    },
    {
      "cell_type": "markdown",
      "source": [
        "criando os animais e com as devidas caracteristicas (Features).\n",
        "\n",
        "Considerando 1 - SIM ou 0 - NÂO\n",
        "\n",
        "Features:\n",
        "  1. O pelo é longo\n",
        "  2. Tem pernas curtas\n",
        "  3. O animal late.\n",
        "\n",
        "Animal = [1, 2, 3]"
      ],
      "metadata": {
        "id": "hHNGl2utTaAe"
      }
    },
    {
      "cell_type": "code",
      "source": [
        "#Criando o animal\n",
        "\n",
        "animal1 = [0, 1, 0]\n",
        "animal2 = [0, 1, 1]\n",
        "animal3 = [1, 1, 0]\n",
        "\n",
        "animal4 = [0, 1, 1]\n",
        "animal5 = [1, 0, 1]\n",
        "animal6 = [1, 1, 1]\n",
        "\n",
        "# Criei a base de todas as caracteristicas dos animais\n",
        "dados = [animal1, animal2, animal3, animal4, animal5, animal6]\n",
        "\n",
        "# Criei a base da classificação de todos os animais (1 - porco / 0 - cachorro)\n",
        "classes = [1, 1, 1, 0, 0, 0]"
      ],
      "metadata": {
        "id": "cdao-Ri-T2tY"
      },
      "execution_count": null,
      "outputs": []
    },
    {
      "cell_type": "markdown",
      "source": [
        "APRENDIZADO DE MÁQUINA"
      ],
      "metadata": {
        "id": "wF4DsTIjVXw1"
      }
    },
    {
      "cell_type": "markdown",
      "source": [
        "Nesta etapa, vamos trazer a biblioteca Scikit-Lerarn no projeto e importar o estimador (modulo) LinearSVC"
      ],
      "metadata": {
        "id": "jWUhYzNjVlh0"
      }
    },
    {
      "cell_type": "code",
      "source": [
        "from sklearn.svm import LinearSVC"
      ],
      "metadata": {
        "id": "73LExjYHVzga"
      },
      "execution_count": null,
      "outputs": []
    },
    {
      "cell_type": "markdown",
      "source": [
        "Ensinando o algoritmo para se adaptar com odados e classificar (aprendizaddo supervisionado). Para isso vamos usar o método fit."
      ],
      "metadata": {
        "id": "CCrlmYu4WBda"
      }
    },
    {
      "cell_type": "code",
      "source": [
        "#Instanciamento do modelo\n",
        "modelo = LinearSVC()\n",
        "\n",
        "#Entrada com os dados no modelo\n",
        "modelo.fit(dados, classes)"
      ],
      "metadata": {
        "colab": {
          "base_uri": "https://localhost:8080/",
          "height": 74
        },
        "id": "ZhhlWnStWR3S",
        "outputId": "4e2b3d62-dc04-4675-a7a4-628d0e4a9a4f"
      },
      "execution_count": null,
      "outputs": [
        {
          "output_type": "execute_result",
          "data": {
            "text/plain": [
              "LinearSVC()"
            ],
            "text/html": [
              "<style>#sk-container-id-1 {color: black;background-color: white;}#sk-container-id-1 pre{padding: 0;}#sk-container-id-1 div.sk-toggleable {background-color: white;}#sk-container-id-1 label.sk-toggleable__label {cursor: pointer;display: block;width: 100%;margin-bottom: 0;padding: 0.3em;box-sizing: border-box;text-align: center;}#sk-container-id-1 label.sk-toggleable__label-arrow:before {content: \"▸\";float: left;margin-right: 0.25em;color: #696969;}#sk-container-id-1 label.sk-toggleable__label-arrow:hover:before {color: black;}#sk-container-id-1 div.sk-estimator:hover label.sk-toggleable__label-arrow:before {color: black;}#sk-container-id-1 div.sk-toggleable__content {max-height: 0;max-width: 0;overflow: hidden;text-align: left;background-color: #f0f8ff;}#sk-container-id-1 div.sk-toggleable__content pre {margin: 0.2em;color: black;border-radius: 0.25em;background-color: #f0f8ff;}#sk-container-id-1 input.sk-toggleable__control:checked~div.sk-toggleable__content {max-height: 200px;max-width: 100%;overflow: auto;}#sk-container-id-1 input.sk-toggleable__control:checked~label.sk-toggleable__label-arrow:before {content: \"▾\";}#sk-container-id-1 div.sk-estimator input.sk-toggleable__control:checked~label.sk-toggleable__label {background-color: #d4ebff;}#sk-container-id-1 div.sk-label input.sk-toggleable__control:checked~label.sk-toggleable__label {background-color: #d4ebff;}#sk-container-id-1 input.sk-hidden--visually {border: 0;clip: rect(1px 1px 1px 1px);clip: rect(1px, 1px, 1px, 1px);height: 1px;margin: -1px;overflow: hidden;padding: 0;position: absolute;width: 1px;}#sk-container-id-1 div.sk-estimator {font-family: monospace;background-color: #f0f8ff;border: 1px dotted black;border-radius: 0.25em;box-sizing: border-box;margin-bottom: 0.5em;}#sk-container-id-1 div.sk-estimator:hover {background-color: #d4ebff;}#sk-container-id-1 div.sk-parallel-item::after {content: \"\";width: 100%;border-bottom: 1px solid gray;flex-grow: 1;}#sk-container-id-1 div.sk-label:hover label.sk-toggleable__label {background-color: #d4ebff;}#sk-container-id-1 div.sk-serial::before {content: \"\";position: absolute;border-left: 1px solid gray;box-sizing: border-box;top: 0;bottom: 0;left: 50%;z-index: 0;}#sk-container-id-1 div.sk-serial {display: flex;flex-direction: column;align-items: center;background-color: white;padding-right: 0.2em;padding-left: 0.2em;position: relative;}#sk-container-id-1 div.sk-item {position: relative;z-index: 1;}#sk-container-id-1 div.sk-parallel {display: flex;align-items: stretch;justify-content: center;background-color: white;position: relative;}#sk-container-id-1 div.sk-item::before, #sk-container-id-1 div.sk-parallel-item::before {content: \"\";position: absolute;border-left: 1px solid gray;box-sizing: border-box;top: 0;bottom: 0;left: 50%;z-index: -1;}#sk-container-id-1 div.sk-parallel-item {display: flex;flex-direction: column;z-index: 1;position: relative;background-color: white;}#sk-container-id-1 div.sk-parallel-item:first-child::after {align-self: flex-end;width: 50%;}#sk-container-id-1 div.sk-parallel-item:last-child::after {align-self: flex-start;width: 50%;}#sk-container-id-1 div.sk-parallel-item:only-child::after {width: 0;}#sk-container-id-1 div.sk-dashed-wrapped {border: 1px dashed gray;margin: 0 0.4em 0.5em 0.4em;box-sizing: border-box;padding-bottom: 0.4em;background-color: white;}#sk-container-id-1 div.sk-label label {font-family: monospace;font-weight: bold;display: inline-block;line-height: 1.2em;}#sk-container-id-1 div.sk-label-container {text-align: center;}#sk-container-id-1 div.sk-container {/* jupyter's `normalize.less` sets `[hidden] { display: none; }` but bootstrap.min.css set `[hidden] { display: none !important; }` so we also need the `!important` here to be able to override the default hidden behavior on the sphinx rendered scikit-learn.org. See: https://github.com/scikit-learn/scikit-learn/issues/21755 */display: inline-block !important;position: relative;}#sk-container-id-1 div.sk-text-repr-fallback {display: none;}</style><div id=\"sk-container-id-1\" class=\"sk-top-container\"><div class=\"sk-text-repr-fallback\"><pre>LinearSVC()</pre><b>In a Jupyter environment, please rerun this cell to show the HTML representation or trust the notebook. <br />On GitHub, the HTML representation is unable to render, please try loading this page with nbviewer.org.</b></div><div class=\"sk-container\" hidden><div class=\"sk-item\"><div class=\"sk-estimator sk-toggleable\"><input class=\"sk-toggleable__control sk-hidden--visually\" id=\"sk-estimator-id-1\" type=\"checkbox\" checked><label for=\"sk-estimator-id-1\" class=\"sk-toggleable__label sk-toggleable__label-arrow\">LinearSVC</label><div class=\"sk-toggleable__content\"><pre>LinearSVC()</pre></div></div></div></div></div>"
            ]
          },
          "metadata": {},
          "execution_count": 10
        }
      ]
    },
    {
      "cell_type": "markdown",
      "source": [
        "Criando um animal hipotetico"
      ],
      "metadata": {
        "id": "DQN6BKiWXcm_"
      }
    },
    {
      "cell_type": "code",
      "source": [
        "animalX = [0, 0, 0]"
      ],
      "metadata": {
        "id": "hDoM4gJTXfW2"
      },
      "execution_count": null,
      "outputs": []
    },
    {
      "cell_type": "markdown",
      "source": [
        "Pedir para o algoritmo fazer a predição de que animal é:\n"
      ],
      "metadata": {
        "id": "pkgczE1NXsP3"
      }
    },
    {
      "cell_type": "code",
      "source": [
        "modelo.predict([animalX])"
      ],
      "metadata": {
        "colab": {
          "base_uri": "https://localhost:8080/"
        },
        "id": "Q6bEU8zVXxSm",
        "outputId": "69afda9b-25a9-44a8-a55c-895a6ce7b6bc"
      },
      "execution_count": null,
      "outputs": [
        {
          "output_type": "execute_result",
          "data": {
            "text/plain": [
              "array([1])"
            ]
          },
          "metadata": {},
          "execution_count": 17
        }
      ]
    },
    {
      "cell_type": "markdown",
      "source": [
        "ACURACIA"
      ],
      "metadata": {
        "id": "KMQ0T5xwYl8l"
      }
    },
    {
      "cell_type": "markdown",
      "source": [
        "Criar uma base de dados de teste:"
      ],
      "metadata": {
        "id": "OiuAJEVGYvXu"
      }
    },
    {
      "cell_type": "code",
      "source": [
        "animal7 = [1, 1, 1]\n",
        "animal8 = [1, 1, 0]\n",
        "animal9 = [0, 1, 1]\n",
        "\n",
        "animaisTeste = [animal7, animal8, animal9]"
      ],
      "metadata": {
        "id": "06wG4IqaYzva"
      },
      "execution_count": null,
      "outputs": []
    },
    {
      "cell_type": "markdown",
      "source": [
        "Questionando o algoritmo e modelo utilizado para classificar (predizer) quais animais são:"
      ],
      "metadata": {
        "id": "oDuz3b01ZFNw"
      }
    },
    {
      "cell_type": "code",
      "source": [
        "previsoes = modelo.predict(animaisTeste)\n",
        "print(previsoes)"
      ],
      "metadata": {
        "colab": {
          "base_uri": "https://localhost:8080/"
        },
        "id": "YeTjCvV9ZLws",
        "outputId": "e8feed10-9b38-4a4b-ad5e-2dc51fb03a2b"
      },
      "execution_count": null,
      "outputs": [
        {
          "output_type": "stream",
          "name": "stdout",
          "text": [
            "[0 1 0]\n"
          ]
        }
      ]
    },
    {
      "cell_type": "markdown",
      "source": [
        "Entrando com os dados de teste das classes"
      ],
      "metadata": {
        "id": "9NTOjC39aA0P"
      }
    },
    {
      "cell_type": "code",
      "source": [
        "testesClasses = [0, 1, 0]"
      ],
      "metadata": {
        "id": "LTaC-3giaEjc"
      },
      "execution_count": null,
      "outputs": []
    },
    {
      "cell_type": "markdown",
      "source": [
        "Comparando as previsões com o testeClasses"
      ],
      "metadata": {
        "id": "gACDlHJ4aRRW"
      }
    },
    {
      "cell_type": "code",
      "source": [
        "previsoes == testesClasses"
      ],
      "metadata": {
        "colab": {
          "base_uri": "https://localhost:8080/"
        },
        "id": "hd1kXKSAaUlP",
        "outputId": "fd3a23e6-2188-4e66-fc72-0dd8fdc3beb7"
      },
      "execution_count": null,
      "outputs": [
        {
          "output_type": "execute_result",
          "data": {
            "text/plain": [
              "array([ True,  True,  True])"
            ]
          },
          "metadata": {},
          "execution_count": 31
        }
      ]
    },
    {
      "cell_type": "markdown",
      "source": [
        "Apresentando resultado de acertos e erros da predção de forma automática"
      ],
      "metadata": {
        "id": "4ik0_AuDattq"
      }
    },
    {
      "cell_type": "code",
      "source": [
        "corretos = (previsoes == testesClasses).sum()\n",
        "total = len(animaisTeste)\n",
        "taxaAcerto = corretos/total\n",
        "print(f\"Taxa de acerto:  {taxaAcerto * 100}\")"
      ],
      "metadata": {
        "colab": {
          "base_uri": "https://localhost:8080/"
        },
        "id": "X_WN6iiGa0o-",
        "outputId": "3c4ee853-b623-4509-faf4-78903a53993a"
      },
      "execution_count": null,
      "outputs": [
        {
          "output_type": "stream",
          "name": "stdout",
          "text": [
            "Taxa de acerto:  100.0\n"
          ]
        }
      ]
    },
    {
      "cell_type": "markdown",
      "source": [
        "Trazendo o método da biblioteca Skilearn metric"
      ],
      "metadata": {
        "id": "Qafy5VpRbV1Z"
      }
    },
    {
      "cell_type": "code",
      "source": [
        "from sklearn.metrics import accuracy_score\n",
        "acerto = accuracy_score(testesClasses, previsoes)\n",
        "print(acerto*100)"
      ],
      "metadata": {
        "colab": {
          "base_uri": "https://localhost:8080/"
        },
        "id": "IF2Lg1sHbbrp",
        "outputId": "9c554e9e-fc52-4b09-bfdc-ed9e7b13950b"
      },
      "execution_count": null,
      "outputs": [
        {
          "output_type": "stream",
          "name": "stdout",
          "text": [
            "100.0\n"
          ]
        }
      ]
    }
  ]
}