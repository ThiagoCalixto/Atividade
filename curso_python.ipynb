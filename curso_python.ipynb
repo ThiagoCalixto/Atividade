{
  "nbformat": 4,
  "nbformat_minor": 0,
  "metadata": {
    "colab": {
      "provenance": [],
      "authorship_tag": "ABX9TyNE3rJ+dhWIW+jhyB7X5OPm"
    },
    "kernelspec": {
      "name": "python3",
      "display_name": "Python 3"
    },
    "language_info": {
      "name": "python"
    }
  },
  "cells": [
    {
      "cell_type": "code",
      "execution_count": null,
      "metadata": {
        "colab": {
          "base_uri": "https://localhost:8080/"
        },
        "id": "5WL5ouJMq5gt",
        "outputId": "66c162cc-3fe0-4b9c-fc98-c13a57381b39"
      },
      "outputs": [
        {
          "output_type": "stream",
          "name": "stdout",
          "text": [
            "tipos de comentarios\n"
          ]
        }
      ],
      "source": [
        "# comentario \n",
        "\"\"\"\n",
        "comentario de varias linhas\n",
        "\"\"\"\n",
        "print('tipos de comentarios')"
      ]
    },
    {
      "cell_type": "code",
      "source": [
        "# tipos matematicos\n",
        "# soma\n",
        "print(1+3)\n",
        "# subtração\n",
        "print(2-2)\n",
        "#divisão\n",
        "print(3/5)\n",
        "# multiplicação\n",
        "print(8*6)\n",
        "#esponenciação\n",
        "print(6**8)\n",
        "#modulo\n",
        "print(4%6)\n"
      ],
      "metadata": {
        "colab": {
          "base_uri": "https://localhost:8080/"
        },
        "id": "V4Q92IsoyEcV",
        "outputId": "fb5786fc-8a84-418a-d124-fbdff7ac2124"
      },
      "execution_count": null,
      "outputs": [
        {
          "output_type": "stream",
          "name": "stdout",
          "text": [
            "4\n",
            "0\n",
            "0.6\n",
            "48\n",
            "1679616\n",
            "4\n"
          ]
        }
      ]
    },
    {
      "cell_type": "code",
      "source": [
        "# tipos de dados"
      ],
      "metadata": {
        "id": "qTDseo919qcI"
      },
      "execution_count": null,
      "outputs": []
    },
    {
      "cell_type": "code",
      "source": [
        "minha_variavel =\"olá mundo\"\n",
        "\n",
        "print(minha_variavel)\n",
        "print(minha_variavel)"
      ],
      "metadata": {
        "colab": {
          "base_uri": "https://localhost:8080/"
        },
        "id": "97dPRtGh5uTB",
        "outputId": "b430abe6-25e4-4a4e-a24c-f1a7d4eee65c"
      },
      "execution_count": null,
      "outputs": [
        {
          "output_type": "stream",
          "name": "stdout",
          "text": [
            "olá mundo\n",
            "olá mundo\n"
          ]
        }
      ]
    },
    {
      "cell_type": "code",
      "source": [
        "x = 1\n",
        "y = 100000\n",
        "\n",
        "if x > y: # comando if\n",
        "  print(\"x e maior que x\")\n",
        "\n",
        "if y > x :\n",
        "  print(\"y e mairlo que x\")"
      ],
      "metadata": {
        "colab": {
          "base_uri": "https://localhost:8080/"
        },
        "id": "jldkrqd59z1R",
        "outputId": "75923be1-917d-4bef-a596-abf92ed7e2a6"
      },
      "execution_count": null,
      "outputs": [
        {
          "output_type": "stream",
          "name": "stdout",
          "text": [
            "y e mairlo que x\n"
          ]
        }
      ]
    },
    {
      "cell_type": "code",
      "source": [
        "x=1\n",
        "while x<10:\n",
        "  print(x)\n",
        "  x= x+1\n",
        "  "
      ],
      "metadata": {
        "colab": {
          "base_uri": "https://localhost:8080/"
        },
        "id": "WM4gRLHljRK1",
        "outputId": "7c5dfd34-20f6-4542-a40a-014d759ca724"
      },
      "execution_count": null,
      "outputs": [
        {
          "output_type": "stream",
          "name": "stdout",
          "text": [
            "1\n",
            "2\n",
            "3\n",
            "4\n",
            "5\n",
            "6\n",
            "7\n",
            "8\n",
            "9\n"
          ]
        }
      ]
    },
    {
      "cell_type": "code",
      "source": [
        "lista= [1,2,3,4,5,6,7,8,9]\n",
        "lista2= [\"ola\",\"mundo\",\"!\"]\n",
        "lista3= [0,\"ola\",\"bis\",99]\n",
        "\n",
        "for i in lista2:\n",
        "  print(i)"
      ],
      "metadata": {
        "colab": {
          "base_uri": "https://localhost:8080/"
        },
        "id": "zubRXLJc5bzp",
        "outputId": "02f305d8-3240-4fe9-90b4-5fe6cb06c170"
      },
      "execution_count": null,
      "outputs": [
        {
          "output_type": "stream",
          "name": "stdout",
          "text": [
            "ola\n",
            "mundo\n",
            "!\n"
          ]
        }
      ]
    },
    {
      "cell_type": "code",
      "source": [
        " # arquivo\n",
        " w = open('arquivo2,txt', \"w\") #abre o aquivo\n",
        " w.write(\"esse e meu arquivo\") # escreve \n",
        " w.close() # feicha o arquivo "
      ],
      "metadata": {
        "id": "Q_gqS9Hc7Ric"
      },
      "execution_count": null,
      "outputs": []
    },
    {
      "cell_type": "code",
      "source": [
        " # arquivo\n",
        " w = open('arquivo2,txt', \"a\") #abre o aquivo\n",
        " w.write(\"esse e meu arquivo\") # escreve \n",
        " w.close() # feicha o arquivo "
      ],
      "metadata": {
        "id": "FtEpRLottjRt"
      },
      "execution_count": null,
      "outputs": []
    },
    {
      "cell_type": "code",
      "source": [
        "# listas e dicionario\n",
        "\n",
        "minha_lista = [\"abacaxi\",\"melancia\",\"pesego\"]\n",
        "minha_lista2 = [1,2,3,4,5,6]\n",
        " print(minha_lista[2])"
      ],
      "metadata": {
        "colab": {
          "base_uri": "https://localhost:8080/",
          "height": 129
        },
        "id": "08tfoYRntx5F",
        "outputId": "320eea39-35be-4b46-c315-89b924a7f45c"
      },
      "execution_count": null,
      "outputs": [
        {
          "output_type": "error",
          "ename": "IndentationError",
          "evalue": "ignored",
          "traceback": [
            "\u001b[0;36m  File \u001b[0;32m\"<ipython-input-14-dddbc6a2a6fc>\"\u001b[0;36m, line \u001b[0;32m5\u001b[0m\n\u001b[0;31m    print(minha_lista[2])\u001b[0m\n\u001b[0m    ^\u001b[0m\n\u001b[0;31mIndentationError\u001b[0m\u001b[0;31m:\u001b[0m unexpected indent\n"
          ]
        }
      ]
    },
    {
      "cell_type": "code",
      "source": [],
      "metadata": {
        "id": "R2Ho0tb4twGw"
      },
      "execution_count": null,
      "outputs": []
    }
  ]
}