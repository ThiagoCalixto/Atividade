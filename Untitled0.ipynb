{
  "nbformat": 4,
  "nbformat_minor": 0,
  "metadata": {
    "colab": {
      "provenance": [],
      "authorship_tag": "ABX9TyNyqM+xUwRn0RB0GEfvhs/g"
    },
    "kernelspec": {
      "name": "python3",
      "display_name": "Python 3"
    }
  },
  "cells": [
    {
      "cell_type": "code",
      "metadata": {
        "colab": {
          "base_uri": "https://localhost:8080/",
          "height": 103
        },
        "id": "DqiOfnSA32p6",
        "outputId": "e344c052-cca2-4684-c779-61afd8a73b48"
      },
      "source": [
        "'''--------------------------------------------------------------------------------------------------------------\n",
        "    Uninove Paulista - ENG computação - Bacelar\n",
        "    Nome: Thiago Patricio Calixto \n",
        "    Data: 10/09/2021\n",
        "    Lista: 03\n",
        "    Enunciado: 02 - Escreva um programa que pergunte a velocidade do carro de um usuario. caso ultrap0asse 80km/h, exiba uma mensagem\n",
        "    dizendo que o usuario foi multado. neste caso, exiba o valor da multa,cobrado $5,00 por km acima de 80km/h.\n",
        "    ------------------------------------------------------------------------------------------------------------  '''\n",
        "\n",
        "   \n",
        "    "
      ],
      "execution_count": null,
      "outputs": [
        {
          "output_type": "execute_result",
          "data": {
            "application/vnd.google.colaboratory.intrinsic+json": {
              "type": "string"
            },
            "text/plain": [
              "'--------------------------------------------------------------------------------------------------------------\\n    Uninove Paulista - ENG computação - Bacelar\\n    Nome: Thiago Patricio Calixto \\n    Data: 10/09/2021\\n    Lista: 03\\n    Enunciado: 02 - Escreva um programa que pergunte a velocidade do carro de um usuario. caso ultrap0asse 80km/h, exiba uma mensagem\\n    dizendo que o usuario foi multado. neste caso, exiba o valor da multa,cobrado $5,00 por km acima de 80km/h.\\n    ------------------------------------------------------------------------------------------------------------  '"
            ]
          },
          "metadata": {},
          "execution_count": 3
        }
      ]
    },
    {
      "cell_type": "code",
      "metadata": {
        "colab": {
          "base_uri": "https://localhost:8080/"
        },
        "id": "A5hsKnWm8H8p",
        "outputId": "f07c6e99-7e33-4932-cbad-f6c13226870c"
      },
      "source": [
        "import this"
      ],
      "execution_count": null,
      "outputs": [
        {
          "output_type": "stream",
          "name": "stdout",
          "text": [
            "The Zen of Python, by Tim Peters\n",
            "\n",
            "Beautiful is better than ugly.\n",
            "Explicit is better than implicit.\n",
            "Simple is better than complex.\n",
            "Complex is better than complicated.\n",
            "Flat is better than nested.\n",
            "Sparse is better than dense.\n",
            "Readability counts.\n",
            "Special cases aren't special enough to break the rules.\n",
            "Although practicality beats purity.\n",
            "Errors should never pass silently.\n",
            "Unless explicitly silenced.\n",
            "In the face of ambiguity, refuse the temptation to guess.\n",
            "There should be one-- and preferably only one --obvious way to do it.\n",
            "Although that way may not be obvious at first unless you're Dutch.\n",
            "Now is better than never.\n",
            "Although never is often better than *right* now.\n",
            "If the implementation is hard to explain, it's a bad idea.\n",
            "If the implementation is easy to explain, it may be a good idea.\n",
            "Namespaces are one honking great idea -- let's do more of those!\n"
          ]
        }
      ]
    }
  ]
}